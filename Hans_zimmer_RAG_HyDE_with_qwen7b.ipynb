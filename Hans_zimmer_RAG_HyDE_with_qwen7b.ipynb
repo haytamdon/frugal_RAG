{
  "cells": [
    {
      "cell_type": "code",
      "execution_count": null,
      "metadata": {
        "colab": {
          "base_uri": "https://localhost:8080/"
        },
        "id": "2sdFKGjh-YDM",
        "outputId": "6bd358be-bb44-4a79-97c8-396a17e3216f"
      },
      "outputs": [],
      "source": [
        "!curl -fsSL https://ollama.com/install.sh | sh"
      ]
    },
    {
      "cell_type": "code",
      "execution_count": null,
      "metadata": {
        "colab": {
          "base_uri": "https://localhost:8080/"
        },
        "id": "BoAzIZbXYW_N",
        "outputId": "ad5fae57-3459-48e0-bbac-29de12c80f5a"
      },
      "outputs": [],
      "source": [
        "!pip install -qU pinecone-client pinecone-datasets langchain-pinecone"
      ]
    },
    {
      "cell_type": "code",
      "execution_count": null,
      "metadata": {
        "colab": {
          "base_uri": "https://localhost:8080/"
        },
        "id": "aM7XvgNbYYRA",
        "outputId": "64d8c1e2-569e-4e86-a094-63c4ab26ad2d"
      },
      "outputs": [],
      "source": [
        "!pip install --quiet langchain_community tiktoken langchainhub chromadb langchain langgraph tavily-python langchain-mistralai gpt4all"
      ]
    },
    {
      "cell_type": "code",
      "execution_count": null,
      "metadata": {
        "colab": {
          "base_uri": "https://localhost:8080/"
        },
        "id": "LvlDaiFrYaVD",
        "outputId": "986578be-39e0-48b4-eed5-cd3fa498fc9e"
      },
      "outputs": [],
      "source": [
        "!pip install --upgrade --quiet  wikipedia"
      ]
    },
    {
      "cell_type": "code",
      "execution_count": null,
      "metadata": {
        "id": "_oRHI5WmYbi-"
      },
      "outputs": [],
      "source": [
        "import os\n",
        "import bs4\n",
        "from langchain_core.output_parsers import StrOutputParser\n",
        "from langchain_core.prompts import ChatPromptTemplate, FewShotChatMessagePromptTemplate\n",
        "from langchain_community.chat_models import ChatOllama\n",
        "from operator import itemgetter\n",
        "from langchain.text_splitter import RecursiveCharacterTextSplitter\n",
        "from langchain_core.runnables import RunnablePassthrough, RunnableLambda\n",
        "from langchain_core.output_parsers import StrOutputParser\n",
        "import pinecone\n",
        "from pinecone import Pinecone, ServerlessSpec, PodSpec\n",
        "from langchain_community.document_loaders import WikipediaLoader\n",
        "from google.colab import userdata\n",
        "import time\n",
        "from langchain_community.embeddings import OllamaEmbeddings"
      ]
    },
    {
      "cell_type": "code",
      "execution_count": null,
      "metadata": {
        "id": "osXAsi9hYhMq"
      },
      "outputs": [],
      "source": [
        "os.environ['LANGCHAIN_TRACING_V2'] = 'true'\n",
        "os.environ['LANGCHAIN_ENDPOINT'] = 'https://api.smith.langchain.com'\n",
        "# In the following two lines either replace the function with\n",
        "# your API keys or save them in the secrets section in google\n",
        "# colab\n",
        "os.environ['LANGCHAIN_API_KEY'] = userdata.get('LANGCHAIN_API_KEY')\n",
        "os.environ['PINECONE_API_KEY'] = userdata.get('PINECONE_API_KEY')\n",
        "pinecone_api_key = os.environ['PINECONE_API_KEY']\n",
        "use_serverless = True"
      ]
    },
    {
      "cell_type": "code",
      "execution_count": null,
      "metadata": {
        "id": "ZQE20Dx1YjJ1"
      },
      "outputs": [],
      "source": [
        "# Loading Wikipedia articles about Boeing, in this\n",
        "# case we load 24 Boeing related articles\n",
        "docs = WikipediaLoader(query=\"Hans Zimmer\").load()"
      ]
    },
    {
      "cell_type": "code",
      "execution_count": null,
      "metadata": {
        "colab": {
          "base_uri": "https://localhost:8080/"
        },
        "id": "zlNIt6_rY1HR",
        "outputId": "252cf908-a5bc-4c97-8878-66a6080c30fe"
      },
      "outputs": [
        {
          "data": {
            "text/plain": [
              "['https://en.wikipedia.org/wiki/Hans_Zimmer',\n",
              " 'https://en.wikipedia.org/wiki/Hans_Zimmer_discography',\n",
              " 'https://en.wikipedia.org/wiki/Music_of_Dune_(2021_film)',\n",
              " 'https://en.wikipedia.org/wiki/Time_(Hans_Zimmer_and_Alan_Walker_song)',\n",
              " 'https://en.wikipedia.org/wiki/True_Romance',\n",
              " 'https://en.wikipedia.org/wiki/Dune_(2021_film)',\n",
              " 'https://en.wikipedia.org/wiki/List_of_awards_and_nominations_received_by_Hans_Zimmer',\n",
              " 'https://en.wikipedia.org/wiki/Interstellar_(soundtrack)',\n",
              " 'https://en.wikipedia.org/wiki/Music_of_the_Pirates_of_the_Caribbean_film_series',\n",
              " 'https://en.wikipedia.org/wiki/Dune:_Part_Two_(soundtrack)',\n",
              " 'https://en.wikipedia.org/wiki/The_Holiday',\n",
              " 'https://en.wikipedia.org/wiki/Guthrie_Govan',\n",
              " 'https://en.wikipedia.org/wiki/Kung_Fu_Panda_4',\n",
              " 'https://en.wikipedia.org/wiki/Lorne_Balfe',\n",
              " 'https://en.wikipedia.org/wiki/The_Creator_(soundtrack)',\n",
              " 'https://en.wikipedia.org/wiki/Dune:_Part_Two',\n",
              " 'https://en.wikipedia.org/wiki/Dune_Messiah',\n",
              " 'https://en.wikipedia.org/wiki/Klaus_Badelt',\n",
              " 'https://en.wikipedia.org/wiki/The_Prince_of_Egypt',\n",
              " 'https://en.wikipedia.org/wiki/Inception',\n",
              " 'https://en.wikipedia.org/wiki/The_Tattooist_of_Auschwitz_(TV_series)',\n",
              " 'https://en.wikipedia.org/wiki/List_of_film_director%E2%80%93composer_collaborations',\n",
              " 'https://en.wikipedia.org/wiki/He%27s_a_Pirate',\n",
              " 'https://en.wikipedia.org/wiki/The_Lion_King',\n",
              " 'https://en.wikipedia.org/wiki/The_Ring_(2002_film)']"
            ]
          },
          "execution_count": 32,
          "metadata": {},
          "output_type": "execute_result"
        }
      ],
      "source": [
        "[doc.metadata['source'] for doc in docs]"
      ]
    },
    {
      "cell_type": "code",
      "execution_count": null,
      "metadata": {
        "id": "PAR3l1ZcY7vU"
      },
      "outputs": [],
      "source": [
        "# Split\n",
        "text_splitter = RecursiveCharacterTextSplitter.from_tiktoken_encoder(\n",
        "    chunk_size=80,\n",
        "    chunk_overlap=30)\n",
        "\n",
        "# Make splits\n",
        "splits = text_splitter.split_documents(docs)"
      ]
    },
    {
      "cell_type": "code",
      "execution_count": null,
      "metadata": {
        "colab": {
          "base_uri": "https://localhost:8080/"
        },
        "id": "sf-AGReTa8qj",
        "outputId": "6f71fb3d-7044-4093-c251-67e99dba273d"
      },
      "outputs": [
        {
          "data": {
            "text/plain": [
              "424"
            ]
          },
          "execution_count": 34,
          "metadata": {},
          "output_type": "execute_result"
        }
      ],
      "source": [
        "len(splits)"
      ]
    },
    {
      "cell_type": "code",
      "execution_count": null,
      "metadata": {
        "colab": {
          "base_uri": "https://localhost:8080/"
        },
        "id": "uXMYgEt2ZdJv",
        "outputId": "0e767c8b-4e92-4908-f336-ae3295572546"
      },
      "outputs": [
        {
          "data": {
            "text/plain": [
              "1024"
            ]
          },
          "execution_count": 35,
          "metadata": {},
          "output_type": "execute_result"
        }
      ],
      "source": [
        "# We use mxbai embeddings (state of the art embedding as of\n",
        "# March 2024)\n",
        "# As of March 2024, this model archives SOTA performance for\n",
        "# Bert-large sized models on the MTEB. It outperforms commercial models\n",
        "# like OpenAIs text-embedding-3-large model and matches the performance\n",
        "# of model 20x its size.\n",
        "embeddings = OllamaEmbeddings(model=\"mxbai-embed-large\")\n",
        "len(embeddings.embed_query(\"test query\"))"
      ]
    },
    {
      "cell_type": "code",
      "execution_count": null,
      "metadata": {
        "id": "2wj-KHa7Z-Gh"
      },
      "outputs": [],
      "source": [
        "pc = Pinecone(api_key=pinecone_api_key)\n",
        "if use_serverless:\n",
        "    spec = ServerlessSpec(cloud='aws', region='us-west-2')\n",
        "else:\n",
        "    # if not using a starter index, you should specify a pod_type too\n",
        "    spec = PodSpec()\n",
        "# check for and delete index if already exists\n",
        "index_name = 'hans-zimmer-db'\n",
        "if index_name in pc.list_indexes().names():\n",
        "    pc.delete_index(index_name)\n",
        "# create a new index\n",
        "pc.create_index(\n",
        "    index_name,\n",
        "    dimension=1024,  # dimensionality of mxbai-embed-large\n",
        "    metric='dotproduct',\n",
        "    spec=spec\n",
        ")\n",
        "# wait for index to be initialized\n",
        "while not pc.describe_index(index_name).status['ready']:\n",
        "    time.sleep(1)"
      ]
    },
    {
      "cell_type": "code",
      "execution_count": null,
      "metadata": {
        "colab": {
          "base_uri": "https://localhost:8080/"
        },
        "id": "7e3agcZPbB-y",
        "outputId": "8c32fe0e-987d-45cf-8b37-e89f7f050afd"
      },
      "outputs": [
        {
          "data": {
            "text/plain": [
              "{'dimension': 1024,\n",
              " 'index_fullness': 0.0,\n",
              " 'namespaces': {},\n",
              " 'total_vector_count': 0}"
            ]
          },
          "execution_count": 37,
          "metadata": {},
          "output_type": "execute_result"
        }
      ],
      "source": [
        "index = pc.Index(index_name)\n",
        "index.describe_index_stats()"
      ]
    },
    {
      "cell_type": "code",
      "execution_count": null,
      "metadata": {
        "id": "YrTKP3QdbCsZ"
      },
      "outputs": [],
      "source": [
        "from langchain.vectorstores import Pinecone\n",
        "embeddings = OllamaEmbeddings(model=\"mxbai-embed-large\")\n",
        "vectorstore = Pinecone.from_documents(splits, embeddings, index_name = index_name)\n",
        "retriever = vectorstore.as_retriever()"
      ]
    },
    {
      "cell_type": "code",
      "execution_count": null,
      "metadata": {
        "colab": {
          "base_uri": "https://localhost:8080/"
        },
        "id": "GhriigT6bEJy",
        "outputId": "400a6c8c-1fb2-45ce-cd14-1ad6d8e7c8cb"
      },
      "outputs": [
        {
          "data": {
            "text/plain": [
              "{'dimension': 1024,\n",
              " 'index_fullness': 0.0,\n",
              " 'namespaces': {'': {'vector_count': 224}},\n",
              " 'total_vector_count': 224}"
            ]
          },
          "execution_count": 39,
          "metadata": {},
          "output_type": "execute_result"
        }
      ],
      "source": [
        "index = pc.Index(index_name)\n",
        "index.describe_index_stats()"
      ]
    },
    {
      "cell_type": "code",
      "execution_count": null,
      "metadata": {
        "id": "gRcRcIqdbWBZ"
      },
      "outputs": [],
      "source": [
        "local_llm = \"qwen:7b\"\n",
        "\n",
        "llm = ChatOllama(model=local_llm, temperature=0.75)"
      ]
    },
    {
      "cell_type": "code",
      "execution_count": null,
      "metadata": {
        "colab": {
          "base_uri": "https://localhost:8080/",
          "height": 105
        },
        "id": "Q111T1UEbJ3d",
        "outputId": "1e453ea8-0781-4775-bfb3-609ab408782f"
      },
      "outputs": [
        {
          "data": {
            "application/vnd.google.colaboratory.intrinsic+json": {
              "type": "string"
            },
            "text/plain": [
              "'Hans Zimmer, a highly acclaimed and influential composer in the film industry, is most famously known for his works on various blockbusters. \\n\\nOne of his most iconic compositions is the score for \"The Lion King,\" which he co-scored with Disney\\'s team of composers. This groundbreaking work won him an Academy Award for Best Original Score.\\n\\nZimmer\\'s other notable contributions to popular culture include scoring for films such as \"Pirates of the Caribbean\" series, \"Gladiator,\" \"Inception,\" and \"Interstellar.\" These compositions have not only captivated audiences but have also solidified Zimmer\\'s reputation as one of the greatest film score composers in history.\\n'"
            ]
          },
          "execution_count": 41,
          "metadata": {},
          "output_type": "execute_result"
        }
      ],
      "source": [
        "# HyDE document genration\n",
        "template = \"\"\"Please write a scientific paper passage to answer the question\n",
        "Question: {question}\n",
        "Passage:\"\"\"\n",
        "prompt_hyde = ChatPromptTemplate.from_template(template)\n",
        "\n",
        "generate_docs_for_retrieval = (\n",
        "    prompt_hyde | llm | StrOutputParser()\n",
        ")\n",
        "\n",
        "# Run\n",
        "question = \"What is Hans Zimmer most famous for?\"\n",
        "generate_docs_for_retrieval.invoke({\"question\":question})"
      ]
    },
    {
      "cell_type": "code",
      "execution_count": null,
      "metadata": {
        "colab": {
          "base_uri": "https://localhost:8080/"
        },
        "id": "9MsJxBUtbp19",
        "outputId": "51569621-25fd-490c-978a-3c7d7daac8e9"
      },
      "outputs": [
        {
          "data": {
            "text/plain": [
              "[Document(page_content='Using the staff, the Chameleon summons every deceased martial arts master to steal their kung fu, including Tai Lung, Lord Shen, and General Kai. Zhen reunites with Po, but he refuses to back down from facing the Chameleon, so she, Ping and Li head back', metadata={'source': 'https://en.wikipedia.org/wiki/Kung_Fu_Panda_4', 'summary': \"Kung Fu Panda 4 is a 2024 American animated martial arts comedy film produced by DreamWorks Animation and distributed by Universal Pictures. It is the fourth installment in the Kung Fu Panda franchise and the sequel to Kung Fu Panda 3 (2016). The film was directed by Mike Mitchell, co-directed by Stephanie Ma Stine, written by Darren Lemke and the writing team of Jonathan Aibel and Glenn Berger, and produced by Rebecca Huntley. It features Jack Black, Dustin Hoffman, James Hong, Bryan Cranston, and Ian McShane reprising their roles from the previous films, with Awkwafina, Ke Huy Quan, Ronny Chieng, Lori Tan Chinn, and Viola Davis joining the cast as new characters. In the film, Po (Black), who must find and train his successor as the new Dragon Warrior, teams up with fox bandit Zhen (Awkwafina) to defeat the evil sorceress, the Chameleon (Davis), before she steals the kung-fu abilities of all masters in China.\\nDirectors Jennifer Yuh Nelson and Alessandro Carloni were asked about the possibility of a fourth Kung Fu Panda film before the release of the third film in January 2016, with Nelson later saying in August 2018 that she was open to a fourth installment. DreamWorks officially announced the fourth film in August 2022, with Mitchell, Ma Stine, and Huntley attached as director, co-director, and producer, respectively, by April 2023. Most of the main voice cast, along with the return of Aibel and Berger as writers and co-producers, was announced in December 2023, following Awkwafina's casting in May of that year. Composer Hans Zimmer, who had scored for the previous three installments, the first two with John Powell and the third alone, returned as composer alongside frequent collaborator Steve Mazzaro. Some additional production assets were borrowed from Jellyfish Pictures.\\nKung Fu Panda 4 premiered at the AMC 14 Theater at The Grove in Los Angeles on March 3, 2024, and was theatrically released in the United States on March 8. The film received generally positive reviews from critics and has grossed $417 million worldwide, making it the fourth highest-grossing film of 2024.\\n\\n\", 'title': 'Kung Fu Panda 4'}),\n",
              " Document(page_content='do for fear of being sabotaged by his mind\\'s projection of his late wife, Mal. Maurice Fischer dies, and the team sedates Robert Fischer into a three-layer shared dream on an airplane to America bought by Saito. Time on each layer runs slower than the layer above, with one member staying behind on each to perform a music-synchronized \"kick\" (using the French', metadata={'source': 'https://en.wikipedia.org/wiki/Inception', 'summary': 'Inception is a 2010 science fiction  action film written and directed by Christopher Nolan, who also produced the film with Emma Thomas, his wife. The film stars Leonardo DiCaprio as a professional thief who steals information by infiltrating the subconscious of his targets. He is offered a chance to have his criminal history erased as payment for the implantation of another person\\'s idea into a target\\'s subconscious. The ensemble cast includes Ken Watanabe, Joseph Gordon-Levitt, Marion Cotillard, Elliot Page, Tom Hardy, Cillian Murphy, Tom Berenger, Dileep Rao, and Michael Caine.\\nAfter the 2002 completion of Insomnia, Nolan presented to Warner Bros. a written 80-page treatment for a horror film envisioning \"dream stealers,\" based on lucid dreaming. Deciding he needed more experience before tackling a production of this magnitude and complexity, Nolan shelved the project and instead worked on 2005\\'s Batman Begins, 2006\\'s The Prestige, and 2008\\'s The Dark Knight. The treatment was revised over six months and was purchased by Warner in February 2009. Inception was filmed in six countries, beginning in Tokyo on June 19 and ending in Canada on November 22. Its official budget was $160 million, split between Warner Bros. and Legendary. Nolan\\'s reputation and success with The Dark Knight helped secure the film\\'s US$100 million in advertising expenditure.\\nInception\\'s premiere was held in London on July 8, 2010; it was released in both conventional and IMAX theaters beginning on July 16, 2010. Inception grossed over $837 million worldwide, becoming the fourth-highest-grossing film of 2010. Considered one of the best films of the 2010s, Inception won four Oscars (Best Cinematography, Best Sound Editing, Best Sound Mixing, Best Visual Effects) and was nominated for four more (Best Picture, Best Original Screenplay, Best Art Direction, Best Original Score) at the 83rd Academy Awards.', 'title': 'Inception'}),\n",
              " Document(page_content='=== Formats ===', metadata={'source': 'https://en.wikipedia.org/wiki/He%27s_a_Pirate', 'summary': '\"He\\'s a Pirate\" is a 2003 track composed by Klaus Badelt and Hans Zimmer for the 2003 Disney film Pirates of the Caribbean: The Curse of the Black Pearl. It is featured on the soundtrack album of the film and is used at the beginning of the credits for the film.\\nThe track has been subject to a number of remix versions collected in an EP titled Pirates Remixed and separate singles released notably by Tiësto in 2006 and by Rebel in 2014. Renditions of the track were also used for the credits of the four Pirates sequels.\\nThe track, cut and altered for time, has been used as theme music by the Tampa Bay Buccaneers for pre-game and time-out sequences at home games at Raymond James Stadium.', 'title': \"He's a Pirate\"}),\n",
              " Document(page_content=\"plot against her brother, going against his wish that none of them should be hurt. Alia spares Princess Irulan who, in grief for Paul, has renounced her loyalty to the Bene Gesserit and vowed to dedicate her life as a teacher to Paul's children. Duncan notes the irony that Paul and Chani's deaths have enabled them to triumph against their enemies: the\", metadata={'source': 'https://en.wikipedia.org/wiki/Dune_Messiah', 'summary': \"Dune Messiah is a 1969 science fiction novel by American writer Frank Herbert, the second in his Dune series of six novels. A sequel to Dune (1965), it was originally serialized in Galaxy magazine in 1969, and then published by Putnam the same year. Dune Messiah and its own sequel Children of Dune (1976) were collectively adapted by the Sci-Fi Channel in 2003 into a miniseries entitled Frank Herbert's Children of Dune.\", 'title': 'Dune Messiah'})]"
            ]
          },
          "execution_count": 42,
          "metadata": {},
          "output_type": "execute_result"
        }
      ],
      "source": [
        "retrieval_chain = generate_docs_for_retrieval | retriever\n",
        "retireved_docs = retrieval_chain.invoke({\"question\":question})\n",
        "retireved_docs"
      ]
    },
    {
      "cell_type": "code",
      "execution_count": null,
      "metadata": {
        "colab": {
          "base_uri": "https://localhost:8080/"
        },
        "id": "dpK8NjOmcKYo",
        "outputId": "b0ddcdb1-9c33-4ffa-9376-b18b834a388e"
      },
      "outputs": [
        {
          "data": {
            "text/plain": [
              "4"
            ]
          },
          "execution_count": 43,
          "metadata": {},
          "output_type": "execute_result"
        }
      ],
      "source": [
        "len(retireved_docs)"
      ]
    },
    {
      "cell_type": "code",
      "execution_count": null,
      "metadata": {
        "colab": {
          "base_uri": "https://localhost:8080/",
          "height": 122
        },
        "id": "NNMz1Eqtc50F",
        "outputId": "95cb2bf1-0858-48b7-e1b4-38293771f9df"
      },
      "outputs": [
        {
          "data": {
            "application/vnd.google.colaboratory.intrinsic+json": {
              "type": "string"
            },
            "text/plain": [
              "'Hans Zimmer is most famous for his work as a composer in film, television, and theater. Some of his most notable and popular compositions include:\\n\\n1. The Soundtrack for the \"Harry Potter\" Film Series - Zimmer composed the iconic theme music for the series.\\n\\n2. The Music for Christopher Nolan\\'s \"Batman Begins\", \"The Dark Knight,\" and \"Interstellar\" - Zimmer created a dark, intense score that perfectly complemented Nolan\\'s films.\\n\\n3. The Scores for James Cameron\\'s \"Avatar\" - Zimmer composed a blend of electronic and orchestral elements to create the film\\'s immersive world.\\n\\n4. The Music for the \"Pirates of the Caribbean\" Film Series - Zimmer crafted the distinctive soundtracks for the series, featuring memorable themes and motifs.\\n\\nThese are just a few examples of Hans Zimmer\\'s extensive contributions to the world of music in film and television.\\n'"
            ]
          },
          "execution_count": 44,
          "metadata": {},
          "output_type": "execute_result"
        }
      ],
      "source": [
        "# RAG\n",
        "template = \"\"\"Answer the following question based on this context:\n",
        "\n",
        "{context}\n",
        "\n",
        "Question: {question}\n",
        "\"\"\"\n",
        "\n",
        "prompt = ChatPromptTemplate.from_template(template)\n",
        "\n",
        "final_rag_chain = (\n",
        "    prompt\n",
        "    | llm\n",
        "    | StrOutputParser()\n",
        ")\n",
        "\n",
        "final_rag_chain.invoke({\"context\":retireved_docs,\"question\":question})"
      ]
    }
  ],
  "metadata": {
    "accelerator": "GPU",
    "colab": {
      "gpuType": "T4",
      "provenance": []
    },
    "kernelspec": {
      "display_name": "Python 3",
      "name": "python3"
    },
    "language_info": {
      "name": "python"
    }
  },
  "nbformat": 4,
  "nbformat_minor": 0
}
